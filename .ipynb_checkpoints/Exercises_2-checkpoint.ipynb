{
 "cells": [
  {
   "cell_type": "markdown",
   "metadata": {},
   "source": [
    "![rmotr](https://user-images.githubusercontent.com/7065401/52071918-bda15380-2562-11e9-828c-7f95297e4a82.png)\n",
    "<hr style=\"margin-bottom: 40px;\">\n",
    "\n",
    "# Exercises\n",
    "## The Sakila Database\n",
    "\n",
    "One of the best example databases out there is the <a href=\"https://dev.mysql.com/doc/sakila/en/\">Sakila Database</a>, which was originally created by MySQL and has been open sourced under the terms of the BSD License.\n",
    "\n",
    "The Sakila database is a nicely normalised schema modelling a DVD rental store, featuring things like films, actors, film-actor relationships, and a central inventory table that connects films, stores, and rentals.\n",
    "\n",
    "<img width=\"1200px\" src=\"https://user-images.githubusercontent.com/7065401/58504872-fa243b00-8161-11e9-85ed-4b7d8d7ce9f7.png\" />"
   ]
  },
  {
   "cell_type": "markdown",
   "metadata": {},
   "source": [
    "![purple-divider](https://user-images.githubusercontent.com/7065401/52071927-c1cd7100-2562-11e9-908a-dde91ba14e59.png)\n",
    "\n",
    "## Hands on! "
   ]
  },
  {
   "cell_type": "code",
   "execution_count": 2,
   "metadata": {},
   "outputs": [],
   "source": [
    "import numpy as np\n",
    "import pandas as pd\n",
    "import matplotlib.pyplot as plt\n",
    "import sqlite3\n",
    "\n",
    "%matplotlib inline"
   ]
  },
  {
   "cell_type": "code",
   "execution_count": 3,
   "metadata": {},
   "outputs": [],
   "source": [
    "conn = sqlite3.connect('data/sakila.db')\n",
    "\n"
   ]
  },
  {
   "cell_type": "code",
   "execution_count": 4,
   "metadata": {},
   "outputs": [],
   "source": [
    "df = pd.read_sql('''\n",
    "    SELECT\n",
    "        rental.rental_id, rental.rental_date, rental.return_date,\n",
    "        customer.last_name AS customer_lastname,\n",
    "        store.store_id,\n",
    "        city.city AS rental_store_city,\n",
    "        film.title AS film_title, film.rental_duration AS film_rental_duration,\n",
    "        film.rental_rate AS film_rental_rate, film.replacement_cost AS film_replacement_cost,\n",
    "        film.rating AS film_rating\n",
    "    FROM rental\n",
    "    INNER JOIN customer ON rental.customer_id == customer.customer_id\n",
    "    INNER JOIN inventory ON rental.inventory_id == inventory.inventory_id\n",
    "    INNER JOIN store ON inventory.store_id == store.store_id\n",
    "    INNER JOIN address ON store.address_id == address.address_id\n",
    "    INNER JOIN city ON address.city_id == city.city_id\n",
    "    INNER JOIN film ON inventory.film_id == film.film_id\n",
    "    ;\n",
    "''', conn, index_col='rental_id', parse_dates=['rental_date', 'return_date'])"
   ]
  },
  {
   "cell_type": "code",
   "execution_count": 5,
   "metadata": {},
   "outputs": [
    {
     "data": {
      "text/html": [
       "<div>\n",
       "<style scoped>\n",
       "    .dataframe tbody tr th:only-of-type {\n",
       "        vertical-align: middle;\n",
       "    }\n",
       "\n",
       "    .dataframe tbody tr th {\n",
       "        vertical-align: top;\n",
       "    }\n",
       "\n",
       "    .dataframe thead th {\n",
       "        text-align: right;\n",
       "    }\n",
       "</style>\n",
       "<table border=\"1\" class=\"dataframe\">\n",
       "  <thead>\n",
       "    <tr style=\"text-align: right;\">\n",
       "      <th></th>\n",
       "      <th>rental_date</th>\n",
       "      <th>return_date</th>\n",
       "      <th>customer_lastname</th>\n",
       "      <th>store_id</th>\n",
       "      <th>rental_store_city</th>\n",
       "      <th>film_title</th>\n",
       "      <th>film_rental_duration</th>\n",
       "      <th>film_rental_rate</th>\n",
       "      <th>film_replacement_cost</th>\n",
       "      <th>film_rating</th>\n",
       "    </tr>\n",
       "    <tr>\n",
       "      <th>rental_id</th>\n",
       "      <th></th>\n",
       "      <th></th>\n",
       "      <th></th>\n",
       "      <th></th>\n",
       "      <th></th>\n",
       "      <th></th>\n",
       "      <th></th>\n",
       "      <th></th>\n",
       "      <th></th>\n",
       "      <th></th>\n",
       "    </tr>\n",
       "  </thead>\n",
       "  <tbody>\n",
       "    <tr>\n",
       "      <th>1</th>\n",
       "      <td>2005-05-24 22:53:30</td>\n",
       "      <td>2005-05-26 22:04:30</td>\n",
       "      <td>HUNTER</td>\n",
       "      <td>1</td>\n",
       "      <td>Lethbridge</td>\n",
       "      <td>BLANKET BEVERLY</td>\n",
       "      <td>7</td>\n",
       "      <td>2.99</td>\n",
       "      <td>21.99</td>\n",
       "      <td>G</td>\n",
       "    </tr>\n",
       "    <tr>\n",
       "      <th>2</th>\n",
       "      <td>2005-05-24 22:54:33</td>\n",
       "      <td>2005-05-28 19:40:33</td>\n",
       "      <td>COLLAZO</td>\n",
       "      <td>2</td>\n",
       "      <td>Woodridge</td>\n",
       "      <td>FREAKY POCUS</td>\n",
       "      <td>7</td>\n",
       "      <td>2.99</td>\n",
       "      <td>16.99</td>\n",
       "      <td>R</td>\n",
       "    </tr>\n",
       "    <tr>\n",
       "      <th>3</th>\n",
       "      <td>2005-05-24 23:03:39</td>\n",
       "      <td>2005-06-01 22:12:39</td>\n",
       "      <td>MURRELL</td>\n",
       "      <td>2</td>\n",
       "      <td>Woodridge</td>\n",
       "      <td>GRADUATE LORD</td>\n",
       "      <td>7</td>\n",
       "      <td>2.99</td>\n",
       "      <td>14.99</td>\n",
       "      <td>G</td>\n",
       "    </tr>\n",
       "    <tr>\n",
       "      <th>4</th>\n",
       "      <td>2005-05-24 23:04:41</td>\n",
       "      <td>2005-06-03 01:43:41</td>\n",
       "      <td>PURDY</td>\n",
       "      <td>1</td>\n",
       "      <td>Lethbridge</td>\n",
       "      <td>LOVE SUICIDES</td>\n",
       "      <td>6</td>\n",
       "      <td>0.99</td>\n",
       "      <td>21.99</td>\n",
       "      <td>R</td>\n",
       "    </tr>\n",
       "    <tr>\n",
       "      <th>5</th>\n",
       "      <td>2005-05-24 23:05:21</td>\n",
       "      <td>2005-06-02 04:33:21</td>\n",
       "      <td>HANSEN</td>\n",
       "      <td>2</td>\n",
       "      <td>Woodridge</td>\n",
       "      <td>IDOLS SNATCHERS</td>\n",
       "      <td>5</td>\n",
       "      <td>2.99</td>\n",
       "      <td>29.99</td>\n",
       "      <td>NC-17</td>\n",
       "    </tr>\n",
       "  </tbody>\n",
       "</table>\n",
       "</div>"
      ],
      "text/plain": [
       "                  rental_date         return_date customer_lastname  store_id  \\\n",
       "rental_id                                                                       \n",
       "1         2005-05-24 22:53:30 2005-05-26 22:04:30            HUNTER         1   \n",
       "2         2005-05-24 22:54:33 2005-05-28 19:40:33           COLLAZO         2   \n",
       "3         2005-05-24 23:03:39 2005-06-01 22:12:39           MURRELL         2   \n",
       "4         2005-05-24 23:04:41 2005-06-03 01:43:41             PURDY         1   \n",
       "5         2005-05-24 23:05:21 2005-06-02 04:33:21            HANSEN         2   \n",
       "\n",
       "          rental_store_city       film_title  film_rental_duration  \\\n",
       "rental_id                                                            \n",
       "1                Lethbridge  BLANKET BEVERLY                     7   \n",
       "2                 Woodridge     FREAKY POCUS                     7   \n",
       "3                 Woodridge    GRADUATE LORD                     7   \n",
       "4                Lethbridge    LOVE SUICIDES                     6   \n",
       "5                 Woodridge  IDOLS SNATCHERS                     5   \n",
       "\n",
       "           film_rental_rate  film_replacement_cost film_rating  \n",
       "rental_id                                                       \n",
       "1                      2.99                  21.99           G  \n",
       "2                      2.99                  16.99           R  \n",
       "3                      2.99                  14.99           G  \n",
       "4                      0.99                  21.99           R  \n",
       "5                      2.99                  29.99       NC-17  "
      ]
     },
     "execution_count": 5,
     "metadata": {},
     "output_type": "execute_result"
    }
   ],
   "source": [
    "df.head()"
   ]
  },
  {
   "cell_type": "markdown",
   "metadata": {},
   "source": [
    "![green-divider](https://user-images.githubusercontent.com/7065401/52071924-c003ad80-2562-11e9-8297-1c6595f8a7ff.png)\n",
    "\n",
    "### What's the mean of `film_rental_duration`?"
   ]
  },
  {
   "cell_type": "code",
   "execution_count": null,
   "metadata": {},
   "outputs": [],
   "source": [
    "# your code goes here\n"
   ]
  },
  {
   "cell_type": "code",
   "execution_count": 6,
   "metadata": {
    "cell_type": "solution"
   },
   "outputs": [
    {
     "data": {
      "text/plain": [
       "4.935489902767389"
      ]
     },
     "execution_count": 6,
     "metadata": {},
     "output_type": "execute_result"
    }
   ],
   "source": [
    "df['film_rental_duration'].mean()"
   ]
  },
  {
   "cell_type": "markdown",
   "metadata": {},
   "source": [
    "![green-divider](https://user-images.githubusercontent.com/7065401/52071924-c003ad80-2562-11e9-8297-1c6595f8a7ff.png)\n",
    "\n",
    "### What's the most common rental duration?\n",
    "\n",
    "Show a <b>bar plot</b> with all the durations."
   ]
  },
  {
   "cell_type": "code",
   "execution_count": null,
   "metadata": {},
   "outputs": [],
   "source": [
    "# your code goes here\n"
   ]
  },
  {
   "cell_type": "code",
   "execution_count": 7,
   "metadata": {
    "cell_type": "solution"
   },
   "outputs": [
    {
     "data": {
      "text/plain": [
       "<AxesSubplot:>"
      ]
     },
     "execution_count": 7,
     "metadata": {},
     "output_type": "execute_result"
    },
    {
     "data": {
      "image/png": "[encoded data removed]",
      "text/plain": [
       "<Figure size 1008x432 with 1 Axes>"
      ]
     },
     "metadata": {
      "needs_background": "light"
     },
     "output_type": "display_data"
    }
   ],
   "source": [
    "df['film_rental_duration'].value_counts().plot(kind='bar', figsize=(14,6))"
   ]
  },
  {
   "cell_type": "markdown",
   "metadata": {},
   "source": [
    "![green-divider](https://user-images.githubusercontent.com/7065401/52071924-c003ad80-2562-11e9-8297-1c6595f8a7ff.png)\n",
    "\n",
    "### What is the most common rental rate?\n",
    "\n",
    "- Show a <b>pie plot</b> with all possible rental rates.\n",
    "- Show a <b>bar plot</b> with all possible rental rates.\n",
    "- Which plot you think fits the best in this case? Why?"
   ]
  },
  {
   "cell_type": "code",
   "execution_count": null,
   "metadata": {},
   "outputs": [],
   "source": [
    "# your code goes here\n"
   ]
  },
  {
   "cell_type": "code",
   "execution_count": 8,
   "metadata": {
    "cell_type": "solution"
   },
   "outputs": [
    {
     "data": {
      "text/plain": [
       "<AxesSubplot:ylabel='film_rental_rate'>"
      ]
     },
     "execution_count": 8,
     "metadata": {},
     "output_type": "execute_result"
    },
    {
     "data": {
      "image/png": "[encoded data removed]",
      "text/plain": [
       "<Figure size 432x432 with 1 Axes>"
      ]
     },
     "metadata": {},
     "output_type": "display_data"
    }
   ],
   "source": [
    "df['film_rental_rate'].value_counts().plot(kind='pie', figsize=(6,6))"
   ]
  },
  {
   "cell_type": "code",
   "execution_count": null,
   "metadata": {},
   "outputs": [],
   "source": [
    "# your code goes here\n"
   ]
  },
  {
   "cell_type": "code",
   "execution_count": 9,
   "metadata": {
    "cell_type": "solution"
   },
   "outputs": [
    {
     "data": {
      "text/plain": [
       "<AxesSubplot:>"
      ]
     },
     "execution_count": 9,
     "metadata": {},
     "output_type": "execute_result"
    },
    {
     "data": {
      "image/png": "[encoded data removed]",
      "text/plain": [
       "<Figure size 1008x432 with 1 Axes>"
      ]
     },
     "metadata": {
      "needs_background": "light"
     },
     "output_type": "display_data"
    }
   ],
   "source": [
    "df['film_rental_rate'].value_counts().plot(kind='bar', figsize=(14,6))"
   ]
  },
  {
   "cell_type": "markdown",
   "metadata": {},
   "source": [
    "![green-divider](https://user-images.githubusercontent.com/7065401/52071924-c003ad80-2562-11e9-8297-1c6595f8a7ff.png)\n",
    "\n",
    "### How is the replacement cost distributed?\n",
    "\n",
    "- Show a <b>box plot</b> of the replacement costs.\n",
    "- Show a <b>density plot</b> of the replacement costs.\n",
    "- Add a red line on the <b>mean</b>.\n",
    "- Add a green line on the median <b>median</b>."
   ]
  },
  {
   "cell_type": "code",
   "execution_count": null,
   "metadata": {},
   "outputs": [],
   "source": [
    "# your code goes here\n"
   ]
  },
  {
   "cell_type": "code",
   "execution_count": 10,
   "metadata": {
    "cell_type": "solution"
   },
   "outputs": [
    {
     "data": {
      "text/plain": [
       "<AxesSubplot:>"
      ]
     },
     "execution_count": 10,
     "metadata": {},
     "output_type": "execute_result"
    },
    {
     "data": {
      "image/png": "[encoded data removed]",
      "text/plain": [
       "<Figure size 1008x432 with 1 Axes>"
      ]
     },
     "metadata": {
      "needs_background": "light"
     },
     "output_type": "display_data"
    }
   ],
   "source": [
    "df['film_replacement_cost'].plot(kind='box', vert=False, figsize=(14,6))"
   ]
  },
  {
   "cell_type": "code",
   "execution_count": null,
   "metadata": {},
   "outputs": [],
   "source": [
    "# your code goes here\n"
   ]
  },
  {
   "cell_type": "code",
   "execution_count": null,
   "metadata": {
    "cell_type": "solution"
   },
   "outputs": [],
   "source": [
    "ax = df['film_replacement_cost'].plot(kind='density', figsize=(14,6))\n",
    "ax.axvline(df['film_replacement_cost'].mean(), color='red')\n",
    "ax.axvline(df['film_replacement_cost'].median(), color='green')"
   ]
  },
  {
   "cell_type": "markdown",
   "metadata": {},
   "source": [
    "![green-divider](https://user-images.githubusercontent.com/7065401/52071924-c003ad80-2562-11e9-8297-1c6595f8a7ff.png)\n",
    "\n",
    "### How many films of each rating do we have?\n",
    "\n",
    "- Show the raw count of each film rating.\n",
    "- Show a <b>bar plot</b> with all possible film ratings."
   ]
  },
  {
   "cell_type": "code",
   "execution_count": null,
   "metadata": {},
   "outputs": [],
   "source": [
    "# your code goes here\n"
   ]
  },
  {
   "cell_type": "code",
   "execution_count": null,
   "metadata": {
    "cell_type": "solution"
   },
   "outputs": [],
   "source": [
    "df['film_rating'].value_counts()"
   ]
  },
  {
   "cell_type": "code",
   "execution_count": null,
   "metadata": {},
   "outputs": [],
   "source": [
    "# your code goes here\n"
   ]
  },
  {
   "cell_type": "code",
   "execution_count": null,
   "metadata": {
    "cell_type": "solution"
   },
   "outputs": [],
   "source": [
    "df['film_rating'].value_counts().plot(kind='bar', figsize=(14,6))"
   ]
  },
  {
   "cell_type": "markdown",
   "metadata": {},
   "source": [
    "![green-divider](https://user-images.githubusercontent.com/7065401/52071924-c003ad80-2562-11e9-8297-1c6595f8a7ff.png)\n",
    "\n",
    "### Does the film replacement cost vary depending on film rating?\n",
    "\n",
    "In the United States, film classification is a voluntary process with the ratings issued by the Motion Picture Association of America (MPAA) via the Classification and Rating Administration (CARA).\n",
    "\n",
    "- G (General Audiences): All Ages are Admitted.\n",
    "- PG (Parental Guidance Suggested): Some Material May Not Be Suitable for Children.\n",
    "- PG-13 (Parents Strongly Cautioned): Some Material May Be Inappropriate for Children Under 13.\n",
    "- R (Restricted): Under 17 Requires Accompanying Parent or Adult Guardian.\n",
    "- NC-17 (Adults Only): No One 17 and Under Admitted.\n",
    "\n",
    "Show a <b>grouped box plot</b> per film rating with the film replacement costs."
   ]
  },
  {
   "cell_type": "code",
   "execution_count": null,
   "metadata": {},
   "outputs": [],
   "source": [
    "# your code goes here\n"
   ]
  },
  {
   "cell_type": "code",
   "execution_count": null,
   "metadata": {
    "cell_type": "solution"
   },
   "outputs": [],
   "source": [
    "df[['film_replacement_cost', 'film_rating']].boxplot(by='film_rating', figsize=(14,6))"
   ]
  },
  {
   "cell_type": "markdown",
   "metadata": {},
   "source": [
    "![green-divider](https://user-images.githubusercontent.com/7065401/52071924-c003ad80-2562-11e9-8297-1c6595f8a7ff.png)\n",
    "\n",
    "### Add and calculate a new `rental_days` column\n",
    "\n",
    "This numeric column should have the count of days between `rental_date` and `return_date`."
   ]
  },
  {
   "cell_type": "code",
   "execution_count": null,
   "metadata": {},
   "outputs": [],
   "source": [
    "# your code goes here\n"
   ]
  },
  {
   "cell_type": "code",
   "execution_count": null,
   "metadata": {
    "cell_type": "solution"
   },
   "outputs": [],
   "source": [
    "df['rental_days'] = df[['rental_date', 'return_date']].apply(lambda x: (x[1] - x[0]).days, axis=1)\n",
    "\n",
    "df['rental_days'].head()"
   ]
  },
  {
   "cell_type": "markdown",
   "metadata": {},
   "source": [
    "![green-divider](https://user-images.githubusercontent.com/7065401/52071924-c003ad80-2562-11e9-8297-1c6595f8a7ff.png)\n",
    "\n",
    "### Analyze the distribution of `rental_days`\n",
    "\n",
    "- Calculate the mean of `rental_days`.\n",
    "- Show a <b>density (KDE)</b> of `rental_days`."
   ]
  },
  {
   "cell_type": "code",
   "execution_count": null,
   "metadata": {},
   "outputs": [],
   "source": [
    "# your code goes here\n"
   ]
  },
  {
   "cell_type": "code",
   "execution_count": null,
   "metadata": {
    "cell_type": "solution"
   },
   "outputs": [],
   "source": [
    "df['rental_days'].mean()"
   ]
  },
  {
   "cell_type": "code",
   "execution_count": null,
   "metadata": {},
   "outputs": [],
   "source": [
    "# your code goes here\n"
   ]
  },
  {
   "cell_type": "code",
   "execution_count": null,
   "metadata": {
    "cell_type": "solution"
   },
   "outputs": [],
   "source": [
    "ax = df['rental_days'].plot(kind='density', figsize=(14,6))\n",
    "ax.axvline(df['rental_days'].mean(), color='red')"
   ]
  },
  {
   "cell_type": "markdown",
   "metadata": {},
   "source": [
    "![green-divider](https://user-images.githubusercontent.com/7065401/52071924-c003ad80-2562-11e9-8297-1c6595f8a7ff.png)\n",
    "\n",
    "### Add and calculate a new `film_daily_rental_rate` column\n",
    "\n",
    "This value should be the division of `film_rental_rate` by `film_rental_duration`."
   ]
  },
  {
   "cell_type": "code",
   "execution_count": null,
   "metadata": {},
   "outputs": [],
   "source": [
    "# your code goes here\n"
   ]
  },
  {
   "cell_type": "code",
   "execution_count": null,
   "metadata": {
    "cell_type": "solution"
   },
   "outputs": [],
   "source": [
    "df['film_daily_rental_rate'] = df['film_rental_rate'] / df['film_rental_duration']\n",
    "\n",
    "df['film_daily_rental_rate'].head()"
   ]
  },
  {
   "cell_type": "markdown",
   "metadata": {},
   "source": [
    "![green-divider](https://user-images.githubusercontent.com/7065401/52071924-c003ad80-2562-11e9-8297-1c6595f8a7ff.png)\n",
    "\n",
    "### Analyze the distribution of `film_daily_rental_rate`\n",
    "\n",
    "- Calculate the mean of `film_daily_rental_rate`.\n",
    "- Show a <b>density (KDE)</b> of `film_daily_rental_rate`."
   ]
  },
  {
   "cell_type": "code",
   "execution_count": null,
   "metadata": {},
   "outputs": [],
   "source": [
    "# your code goes here\n"
   ]
  },
  {
   "cell_type": "code",
   "execution_count": null,
   "metadata": {
    "cell_type": "solution"
   },
   "outputs": [],
   "source": [
    "df['film_daily_rental_rate'].mean()"
   ]
  },
  {
   "cell_type": "code",
   "execution_count": null,
   "metadata": {},
   "outputs": [],
   "source": [
    "# your code goes here\n"
   ]
  },
  {
   "cell_type": "code",
   "execution_count": null,
   "metadata": {
    "cell_type": "solution"
   },
   "outputs": [],
   "source": [
    "ax = df['film_daily_rental_rate'].plot(kind='density', figsize=(14,6))\n",
    "ax.axvline(df['film_daily_rental_rate'].mean(), color='red')"
   ]
  },
  {
   "cell_type": "markdown",
   "metadata": {},
   "source": [
    "![green-divider](https://user-images.githubusercontent.com/7065401/52071924-c003ad80-2562-11e9-8297-1c6595f8a7ff.png)\n",
    "\n",
    "### List 10 films with the lowest daily rental rate"
   ]
  },
  {
   "cell_type": "code",
   "execution_count": null,
   "metadata": {},
   "outputs": [],
   "source": [
    "# your code goes here\n"
   ]
  },
  {
   "cell_type": "code",
   "execution_count": null,
   "metadata": {
    "cell_type": "solution"
   },
   "outputs": [],
   "source": [
    "df.loc[df['film_daily_rental_rate'] == df['film_daily_rental_rate'].min()].head(10)"
   ]
  },
  {
   "cell_type": "markdown",
   "metadata": {},
   "source": [
    "![green-divider](https://user-images.githubusercontent.com/7065401/52071924-c003ad80-2562-11e9-8297-1c6595f8a7ff.png)\n",
    "\n",
    "### List 10 films with the highest daily rental rate"
   ]
  },
  {
   "cell_type": "code",
   "execution_count": null,
   "metadata": {},
   "outputs": [],
   "source": [
    "# your code goes here\n"
   ]
  },
  {
   "cell_type": "code",
   "execution_count": null,
   "metadata": {
    "cell_type": "solution"
   },
   "outputs": [],
   "source": [
    "df.loc[df['film_daily_rental_rate'] == df['film_daily_rental_rate'].max()].head(10)"
   ]
  },
  {
   "cell_type": "markdown",
   "metadata": {},
   "source": [
    "![green-divider](https://user-images.githubusercontent.com/7065401/52071924-c003ad80-2562-11e9-8297-1c6595f8a7ff.png)\n",
    "\n",
    "### How many rentals were made in Lethbridge city?"
   ]
  },
  {
   "cell_type": "code",
   "execution_count": null,
   "metadata": {},
   "outputs": [],
   "source": [
    "# your code goes here\n"
   ]
  },
  {
   "cell_type": "code",
   "execution_count": null,
   "metadata": {
    "cell_type": "solution"
   },
   "outputs": [],
   "source": [
    "df.loc[df['rental_store_city'] == 'Lethbridge'].shape[0]"
   ]
  },
  {
   "cell_type": "markdown",
   "metadata": {},
   "source": [
    "![green-divider](https://user-images.githubusercontent.com/7065401/52071924-c003ad80-2562-11e9-8297-1c6595f8a7ff.png)\n",
    "\n",
    "### How many rentals of each film rating were made in Lethbridge city?\n",
    "\n",
    "Show a <b>bar plot</b> with each film rating count."
   ]
  },
  {
   "cell_type": "code",
   "execution_count": null,
   "metadata": {},
   "outputs": [],
   "source": [
    "# your code goes here\n"
   ]
  },
  {
   "cell_type": "code",
   "execution_count": null,
   "metadata": {
    "cell_type": "solution"
   },
   "outputs": [],
   "source": [
    "df.loc[df['rental_store_city'] == 'Lethbridge', 'film_rating'].value_counts()"
   ]
  },
  {
   "cell_type": "code",
   "execution_count": null,
   "metadata": {
    "cell_type": "solution"
   },
   "outputs": [],
   "source": [
    "df.loc[df['rental_store_city'] == 'Lethbridge', 'film_rating'].value_counts().plot(kind='bar', figsize=(14,6))"
   ]
  },
  {
   "cell_type": "markdown",
   "metadata": {},
   "source": [
    "![green-divider](https://user-images.githubusercontent.com/7065401/52071924-c003ad80-2562-11e9-8297-1c6595f8a7ff.png)\n",
    "\n",
    "### How many rentals were made in Woodridge city with rental duration higher than 5 days?"
   ]
  },
  {
   "cell_type": "code",
   "execution_count": null,
   "metadata": {},
   "outputs": [],
   "source": [
    "# your code goes here\n"
   ]
  },
  {
   "cell_type": "code",
   "execution_count": null,
   "metadata": {
    "cell_type": "solution"
   },
   "outputs": [],
   "source": [
    "df.loc[(df['rental_store_city'] == 'Woodridge') & (df['film_rental_duration'] > 5)].shape[0]"
   ]
  },
  {
   "cell_type": "markdown",
   "metadata": {},
   "source": [
    "![green-divider](https://user-images.githubusercontent.com/7065401/52071924-c003ad80-2562-11e9-8297-1c6595f8a7ff.png)\n",
    "\n",
    "### How many rentals were made at the store with id 2 or with replacement cost lower than 10.99 USD?"
   ]
  },
  {
   "cell_type": "code",
   "execution_count": null,
   "metadata": {},
   "outputs": [],
   "source": [
    "# your code goes here\n"
   ]
  },
  {
   "cell_type": "code",
   "execution_count": null,
   "metadata": {
    "cell_type": "solution"
   },
   "outputs": [],
   "source": [
    "df.loc[(df['store_id'] == 2) | (df['film_replacement_cost'] < 10.99)].shape[0]"
   ]
  },
  {
   "cell_type": "markdown",
   "metadata": {},
   "source": [
    "![purple-divider](https://user-images.githubusercontent.com/7065401/52071927-c1cd7100-2562-11e9-908a-dde91ba14e59.png)"
   ]
  }
 ],
 "metadata": {
  "kernelspec": {
   "display_name": "Python 3 (ipykernel)",
   "language": "python",
   "name": "python3"
  },
  "language_info": {
   "codemirror_mode": {
    "name": "ipython",
    "version": 3
   },
   "file_extension": ".py",
   "mimetype": "text/x-python",
   "name": "python",
   "nbconvert_exporter": "python",
   "pygments_lexer": "ipython3",
   "version": "3.9.7"
  }
 },
 "nbformat": 4,
 "nbformat_minor": 2
}
